{
 "cells": [
  {
   "cell_type": "code",
   "execution_count": 1,
   "metadata": {},
   "outputs": [],
   "source": [
    "import pandas as pd\n",
    "from langchain_ollama import ChatOllama\n",
    "from langchain.agents import AgentType\n",
    "from langchain_experimental.agents.agent_toolkits import create_pandas_dataframe_agent"
   ]
  },
  {
   "cell_type": "code",
   "execution_count": 2,
   "metadata": {},
   "outputs": [
    {
     "data": {
      "text/html": [
       "<div>\n",
       "<style scoped>\n",
       "    .dataframe tbody tr th:only-of-type {\n",
       "        vertical-align: middle;\n",
       "    }\n",
       "\n",
       "    .dataframe tbody tr th {\n",
       "        vertical-align: top;\n",
       "    }\n",
       "\n",
       "    .dataframe thead th {\n",
       "        text-align: right;\n",
       "    }\n",
       "</style>\n",
       "<table border=\"1\" class=\"dataframe\">\n",
       "  <thead>\n",
       "    <tr style=\"text-align: right;\">\n",
       "      <th></th>\n",
       "      <th>Metrics</th>\n",
       "      <th>2023 December</th>\n",
       "      <th>2024 January</th>\n",
       "      <th>2024 February</th>\n",
       "      <th>2024 March</th>\n",
       "      <th>2024 April</th>\n",
       "      <th>2024 May</th>\n",
       "      <th>2024 June</th>\n",
       "      <th>This Year</th>\n",
       "      <th>Monthly Changes</th>\n",
       "      <th>Last Year</th>\n",
       "    </tr>\n",
       "  </thead>\n",
       "  <tbody>\n",
       "    <tr>\n",
       "      <th>0</th>\n",
       "      <td>Credit commission</td>\n",
       "      <td>3682.0</td>\n",
       "      <td>6067.08</td>\n",
       "      <td>9556.34</td>\n",
       "      <td>15749.66</td>\n",
       "      <td>23565.28</td>\n",
       "      <td>38652.33</td>\n",
       "      <td>55019.36</td>\n",
       "      <td>148610.05</td>\n",
       "      <td>16367.03</td>\n",
       "      <td>88368.0</td>\n",
       "    </tr>\n",
       "    <tr>\n",
       "      <th>1</th>\n",
       "      <td>GPL commission</td>\n",
       "      <td>638.0</td>\n",
       "      <td>1212.20</td>\n",
       "      <td>2012.25</td>\n",
       "      <td>3461.07</td>\n",
       "      <td>4153.28</td>\n",
       "      <td>6645.25</td>\n",
       "      <td>12625.97</td>\n",
       "      <td>30110.02</td>\n",
       "      <td>5980.72</td>\n",
       "      <td>15312.0</td>\n",
       "    </tr>\n",
       "    <tr>\n",
       "      <th>2</th>\n",
       "      <td>Branch commission</td>\n",
       "      <td>548.0</td>\n",
       "      <td>865.84</td>\n",
       "      <td>1056.32</td>\n",
       "      <td>1204.20</td>\n",
       "      <td>1276.45</td>\n",
       "      <td>1480.68</td>\n",
       "      <td>1836.04</td>\n",
       "      <td>7719.53</td>\n",
       "      <td>355.36</td>\n",
       "      <td>13152.0</td>\n",
       "    </tr>\n",
       "    <tr>\n",
       "      <th>3</th>\n",
       "      <td>Digital commission</td>\n",
       "      <td>535.0</td>\n",
       "      <td>984.40</td>\n",
       "      <td>1319.10</td>\n",
       "      <td>2057.80</td>\n",
       "      <td>3909.82</td>\n",
       "      <td>7585.05</td>\n",
       "      <td>11225.87</td>\n",
       "      <td>27082.04</td>\n",
       "      <td>3640.82</td>\n",
       "      <td>12840.0</td>\n",
       "    </tr>\n",
       "    <tr>\n",
       "      <th>4</th>\n",
       "      <td>House commission</td>\n",
       "      <td>796.0</td>\n",
       "      <td>1241.76</td>\n",
       "      <td>2483.52</td>\n",
       "      <td>4619.35</td>\n",
       "      <td>6189.93</td>\n",
       "      <td>10522.88</td>\n",
       "      <td>12206.54</td>\n",
       "      <td>37263.98</td>\n",
       "      <td>1683.66</td>\n",
       "      <td>19104.0</td>\n",
       "    </tr>\n",
       "  </tbody>\n",
       "</table>\n",
       "</div>"
      ],
      "text/plain": [
       "              Metrics  2023 December  2024 January  2024 February  2024 March  \\\n",
       "0   Credit commission         3682.0       6067.08        9556.34    15749.66   \n",
       "1      GPL commission          638.0       1212.20        2012.25     3461.07   \n",
       "2   Branch commission          548.0        865.84        1056.32     1204.20   \n",
       "3  Digital commission          535.0        984.40        1319.10     2057.80   \n",
       "4    House commission          796.0       1241.76        2483.52     4619.35   \n",
       "\n",
       "   2024 April  2024 May  2024 June  This Year  Monthly Changes  Last Year  \n",
       "0    23565.28  38652.33   55019.36  148610.05         16367.03    88368.0  \n",
       "1     4153.28   6645.25   12625.97   30110.02          5980.72    15312.0  \n",
       "2     1276.45   1480.68    1836.04    7719.53           355.36    13152.0  \n",
       "3     3909.82   7585.05   11225.87   27082.04          3640.82    12840.0  \n",
       "4     6189.93  10522.88   12206.54   37263.98          1683.66    19104.0  "
      ]
     },
     "execution_count": 2,
     "metadata": {},
     "output_type": "execute_result"
    }
   ],
   "source": [
    "df = pd.read_csv(\"finans.csv\")\n",
    "df.head()"
   ]
  },
  {
   "cell_type": "code",
   "execution_count": 3,
   "metadata": {},
   "outputs": [],
   "source": [
    "QUERY = \"\"\"\n",
    "THIS IS TOO MUCH IMPORTANT!\n",
    "For every response, follow this strict format:\n",
    "\n",
    "1. Thought: Provide your thought process.\n",
    "2. Action: State the action you will take (e.g., analyze_column).\n",
    "3. Action Input: Provide the input for the action (e.g., the column name).\n",
    "4. Final Answer: Provide your conclusion or analysis.\n",
    "\n",
    "Can you describe the given dataset? What is the dataset about? What are the columns and what do they represent?\n",
    "Think step by step.\n",
    "\n",
    "Final Answer Example:\n",
    "- Final Answer: The dataset provided is a comprehensive financial record of a Turkish Bank, detailing various metrics related to banking commissions, interests, and other financial products over a series of months in 2023 and 2024. The dataset is structured to help analyze trends, monthly changes, and year-over-year comparisons in these financial metrics. Here is a breakdown of the columns in the dataset:\n",
    "1. **Metrics**: This column lists the different types of financial metrics being tracked. These include various commissions (e.g., credit, GPL, branch, digital, house, car, overdraft, credit card commissions), interests (e.g., general, GPL, branch, digital, house, car, overdraft interests), and other financial products (e.g., credits, demand deposits, investment products).\n",
    "2. **2023 December to 2024 June**: These columns represent the monthly data for each metric from December 2023 to June 2024. Each column shows the financial value associated with the metric for that particular month.\n",
    "3. **This Year**: This column aggregates the total for each metric from December 2023 to June 2024, providing a cumulative figure for the current year.\n",
    "4. **Monthly Changes**: This column shows the change in value from the previous month to the current month for each metric, highlighting the month-to-month variation.\n",
    "5. **Last Year**: This column likely provides the cumulative figures for the previous year, allowing for a year-over-year comparison to assess growth, decline, or stability in each financial metric.\n",
    "This dataset is crucial for the bank's strategic planning, as it provides insights into which areas are experiencing growth, which are declining, and how different products are performing over time. It aids in making informed decisions regarding resource allocation, product development, and performance enhancement.\n",
    "\"\"\""
   ]
  },
  {
   "cell_type": "code",
   "execution_count": 4,
   "metadata": {},
   "outputs": [],
   "source": [
    "llm = ChatOllama(model=\"gemma2:9b\", temperature=0.1, top_k=0.1, top_p=0.1)"
   ]
  },
  {
   "cell_type": "code",
   "execution_count": 5,
   "metadata": {},
   "outputs": [],
   "source": [
    "agent = create_pandas_dataframe_agent(\n",
    "    llm,\n",
    "    df,\n",
    "    verbose=True,\n",
    "    agent_type=AgentType.ZERO_SHOT_REACT_DESCRIPTION,\n",
    "    allow_dangerous_code=True,\n",
    "    max_iterations=3,\n",
    "    number_of_head_rows=df.shape[0],\n",
    ")"
   ]
  },
  {
   "cell_type": "code",
   "execution_count": 6,
   "metadata": {},
   "outputs": [
    {
     "name": "stdout",
     "output_type": "stream",
     "text": [
      "\n",
      "\n",
      "\u001b[1m> Entering new AgentExecutor chain...\u001b[0m\n",
      "\u001b[32;1m\u001b[1;3m1. **Thought:** The provided data appears to be a table with multiple rows and columns.  To understand the dataset, I need to analyze each column's header and see if there's a pattern or theme. \n",
      "\n",
      "2. **Action:** Analyze_column_headers\n",
      "\n",
      "3. **Action Input:** All column headers\n",
      "\n",
      "4. **Final Answer:** The dataset appears to represent financial performance data for various investment products over time.  Here's a breakdown of the columns:\n",
      "\n",
      "* **Row Number:** Likely a sequential identifier for each product.\n",
      "* **Product Name:**  The name of the specific investment product (e.g., Gold, Term Deposit).\n",
      "* **Columns 3-12:** These likely represent different periods or timeframes (e.g., months, quarters) with numerical values indicating performance metrics.\n",
      "\n",
      "**Without further context or information about the specific financial metrics used, it's difficult to provide a more detailed description.**  \u001b[0m\n",
      "\n",
      "\u001b[1m> Finished chain.\u001b[0m\n"
     ]
    }
   ],
   "source": [
    "try:\n",
    "    response = agent.invoke(QUERY)[\"output\"]\n",
    "except Exception as e:\n",
    "    response = e"
   ]
  },
  {
   "cell_type": "code",
   "execution_count": 7,
   "metadata": {},
   "outputs": [
    {
     "name": "stdout",
     "output_type": "stream",
     "text": [
      "** The dataset appears to represent financial performance data for various investment products over time.  Here's a breakdown of the columns:\n",
      "\n",
      "* **Row Number:** Likely a sequential identifier for each product.\n",
      "* **Product Name:**  The name of the specific investment product (e.g., Gold, Term Deposit).\n",
      "* **Columns 3-12:** These likely represent different periods or timeframes (e.g., months, quarters) with numerical values indicating performance metrics.\n",
      "\n",
      "**Without further context or information about the specific financial metrics used, it's difficult to provide a more detailed description.**\n"
     ]
    }
   ],
   "source": [
    "print(response)"
   ]
  },
  {
   "cell_type": "code",
   "execution_count": null,
   "metadata": {},
   "outputs": [],
   "source": []
  },
  {
   "cell_type": "code",
   "execution_count": null,
   "metadata": {},
   "outputs": [],
   "source": []
  }
 ],
 "metadata": {
  "kernelspec": {
   "display_name": "venv",
   "language": "python",
   "name": "python3"
  },
  "language_info": {
   "codemirror_mode": {
    "name": "ipython",
    "version": 3
   },
   "file_extension": ".py",
   "mimetype": "text/x-python",
   "name": "python",
   "nbconvert_exporter": "python",
   "pygments_lexer": "ipython3",
   "version": "3.11.5"
  }
 },
 "nbformat": 4,
 "nbformat_minor": 2
}
